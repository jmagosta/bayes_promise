{
 "cells": [
  {
   "cell_type": "markdown",
   "metadata": {},
   "source": [
    "# Solving Single Decisions\n",
    "\n",
    "## The \"Party Problem\" \"object oriented\" example\n",
    "\n",
    "Using python classes `BN` and `Potential`\n",
    "\n",
    "JMA 3 Apr 2025"
   ]
  },
  {
   "cell_type": "code",
   "execution_count": 1,
   "metadata": {},
   "outputs": [],
   "source": [
    "# Import Bayes network classes\n",
    "\n",
    "import Potential as P\n",
    "import BN\n"
   ]
  },
  {
   "cell_type": "code",
   "execution_count": 2,
   "metadata": {},
   "outputs": [
    {
     "data": {
      "text/html": [
       "    <style>\n",
       "        .bk-notebook-logo {\n",
       "            display: block;\n",
       "            width: 20px;\n",
       "            height: 20px;\n",
       "            background-image: url(data:image/png;base64,iVBORw0KGgoAAAANSUhEUgAAABQAAAAUCAYAAACNiR0NAAAABHNCSVQICAgIfAhkiAAAAAlwSFlzAAALEgAACxIB0t1+/AAAABx0RVh0U29mdHdhcmUAQWRvYmUgRmlyZXdvcmtzIENTNui8sowAAAOkSURBVDiNjZRtaJVlGMd/1/08zzln5zjP1LWcU9N0NkN8m2CYjpgQYQXqSs0I84OLIC0hkEKoPtiH3gmKoiJDU7QpLgoLjLIQCpEsNJ1vqUOdO7ppbuec5+V+rj4ctwzd8IIbbi6u+8f1539dt3A78eXC7QizUF7gyV1fD1Yqg4JWz84yffhm0qkFqBogB9rM8tZdtwVsPUhWhGcFJngGeWrPzHm5oaMmkfEg1usvLFyc8jLRqDOMru7AyC8saQr7GG7f5fvDeH7Ej8CM66nIF+8yngt6HWaKh7k49Soy9nXurCi1o3qUbS3zWfrYeQDTB/Qj6kX6Ybhw4B+bOYoLKCC9H3Nu/leUTZ1JdRWkkn2ldcCamzrcf47KKXdAJllSlxAOkRgyHsGC/zRday5Qld9DyoM4/q/rUoy/CXh3jzOu3bHUVZeU+DEn8FInkPBFlu3+nW3Nw0mk6vCDiWg8CeJaxEwuHS3+z5RgY+YBR6V1Z1nxSOfoaPa4LASWxxdNp+VWTk7+4vzaou8v8PN+xo+KY2xsw6une2frhw05CTYOmQvsEhjhWjn0bmXPjpE1+kplmmkP3suftwTubK9Vq22qKmrBhpY4jvd5afdRA3wGjFAgcnTK2s4hY0/GPNIb0nErGMCRxWOOX64Z8RAC4oCXdklmEvcL8o0BfkNK4lUg9HTl+oPlQxdNo3Mg4Nv175e/1LDGzZen30MEjRUtmXSfiTVu1kK8W4txyV6BMKlbgk3lMwYCiusNy9fVfvvwMxv8Ynl6vxoByANLTWplvuj/nF9m2+PDtt1eiHPBr1oIfhCChQMBw6Aw0UulqTKZdfVvfG7VcfIqLG9bcldL/+pdWTLxLUy8Qq38heUIjh4XlzZxzQm19lLFlr8vdQ97rjZVOLf8nclzckbcD4wxXMidpX30sFd37Fv/GtwwhzhxGVAprjbg0gCAEeIgwCZyTV2Z1REEW8O4py0wsjeloKoMr6iCY6dP92H6Vw/oTyICIthibxjm/DfN9lVz8IqtqKYLUXfoKVMVQVVJOElGjrnnUt9T9wbgp8AyYKaGlqingHZU/uG2NTZSVqwHQTWkx9hxjkpWDaCg6Ckj5qebgBVbT3V3NNXMSiWSDdGV3hrtzla7J+duwPOToIg42ChPQOQjspnSlp1V+Gjdged7+8UN5CRAV7a5EdFNwCjEaBR27b3W890TE7g24NAP/mMDXRWrGoFPQI9ls/MWO2dWFAar/xcOIImbbpA3zgAAAABJRU5ErkJggg==);\n",
       "        }\n",
       "    </style>\n",
       "    <div>\n",
       "        <a href=\"https://bokeh.org\" target=\"_blank\" class=\"bk-notebook-logo\"></a>\n",
       "        <span id=\"a550c3a3-dec6-4a44-ac97-0b087fa41b08\">Loading BokehJS ...</span>\n",
       "    </div>\n"
      ]
     },
     "metadata": {},
     "output_type": "display_data"
    },
    {
     "data": {
      "application/javascript": "'use strict';\n(function(root) {\n  function now() {\n    return new Date();\n  }\n\n  const force = true;\n\n  if (typeof root._bokeh_onload_callbacks === \"undefined\" || force === true) {\n    root._bokeh_onload_callbacks = [];\n    root._bokeh_is_loading = undefined;\n  }\n\nconst JS_MIME_TYPE = 'application/javascript';\n  const HTML_MIME_TYPE = 'text/html';\n  const EXEC_MIME_TYPE = 'application/vnd.bokehjs_exec.v0+json';\n  const CLASS_NAME = 'output_bokeh rendered_html';\n\n  /**\n   * Render data to the DOM node\n   */\n  function render(props, node) {\n    const script = document.createElement(\"script\");\n    node.appendChild(script);\n  }\n\n  /**\n   * Handle when an output is cleared or removed\n   */\n  function handleClearOutput(event, handle) {\n    function drop(id) {\n      const view = Bokeh.index.get_by_id(id)\n      if (view != null) {\n        view.model.document.clear()\n        Bokeh.index.delete(view)\n      }\n    }\n\n    const cell = handle.cell;\n\n    const id = cell.output_area._bokeh_element_id;\n    const server_id = cell.output_area._bokeh_server_id;\n\n    // Clean up Bokeh references\n    if (id != null) {\n      drop(id)\n    }\n\n    if (server_id !== undefined) {\n      // Clean up Bokeh references\n      const cmd_clean = \"from bokeh.io.state import curstate; print(curstate().uuid_to_server['\" + server_id + \"'].get_sessions()[0].document.roots[0]._id)\";\n      cell.notebook.kernel.execute(cmd_clean, {\n        iopub: {\n          output: function(msg) {\n            const id = msg.content.text.trim()\n            drop(id)\n          }\n        }\n      });\n      // Destroy server and session\n      const cmd_destroy = \"import bokeh.io.notebook as ion; ion.destroy_server('\" + server_id + \"')\";\n      cell.notebook.kernel.execute(cmd_destroy);\n    }\n  }\n\n  /**\n   * Handle when a new output is added\n   */\n  function handleAddOutput(event, handle) {\n    const output_area = handle.output_area;\n    const output = handle.output;\n\n    // limit handleAddOutput to display_data with EXEC_MIME_TYPE content only\n    if ((output.output_type != \"display_data\") || (!Object.prototype.hasOwnProperty.call(output.data, EXEC_MIME_TYPE))) {\n      return\n    }\n\n    const toinsert = output_area.element.find(\".\" + CLASS_NAME.split(' ')[0]);\n\n    if (output.metadata[EXEC_MIME_TYPE][\"id\"] !== undefined) {\n      toinsert[toinsert.length - 1].firstChild.textContent = output.data[JS_MIME_TYPE];\n      // store reference to embed id on output_area\n      output_area._bokeh_element_id = output.metadata[EXEC_MIME_TYPE][\"id\"];\n    }\n    if (output.metadata[EXEC_MIME_TYPE][\"server_id\"] !== undefined) {\n      const bk_div = document.createElement(\"div\");\n      bk_div.innerHTML = output.data[HTML_MIME_TYPE];\n      const script_attrs = bk_div.children[0].attributes;\n      for (let i = 0; i < script_attrs.length; i++) {\n        toinsert[toinsert.length - 1].firstChild.setAttribute(script_attrs[i].name, script_attrs[i].value);\n        toinsert[toinsert.length - 1].firstChild.textContent = bk_div.children[0].textContent\n      }\n      // store reference to server id on output_area\n      output_area._bokeh_server_id = output.metadata[EXEC_MIME_TYPE][\"server_id\"];\n    }\n  }\n\n  function register_renderer(events, OutputArea) {\n\n    function append_mime(data, metadata, element) {\n      // create a DOM node to render to\n      const toinsert = this.create_output_subarea(\n        metadata,\n        CLASS_NAME,\n        EXEC_MIME_TYPE\n      );\n      this.keyboard_manager.register_events(toinsert);\n      // Render to node\n      const props = {data: data, metadata: metadata[EXEC_MIME_TYPE]};\n      render(props, toinsert[toinsert.length - 1]);\n      element.append(toinsert);\n      return toinsert\n    }\n\n    /* Handle when an output is cleared or removed */\n    events.on('clear_output.CodeCell', handleClearOutput);\n    events.on('delete.Cell', handleClearOutput);\n\n    /* Handle when a new output is added */\n    events.on('output_added.OutputArea', handleAddOutput);\n\n    /**\n     * Register the mime type and append_mime function with output_area\n     */\n    OutputArea.prototype.register_mime_type(EXEC_MIME_TYPE, append_mime, {\n      /* Is output safe? */\n      safe: true,\n      /* Index of renderer in `output_area.display_order` */\n      index: 0\n    });\n  }\n\n  // register the mime type if in Jupyter Notebook environment and previously unregistered\n  if (root.Jupyter !== undefined) {\n    const events = require('base/js/events');\n    const OutputArea = require('notebook/js/outputarea').OutputArea;\n\n    if (OutputArea.prototype.mime_types().indexOf(EXEC_MIME_TYPE) == -1) {\n      register_renderer(events, OutputArea);\n    }\n  }\n  if (typeof (root._bokeh_timeout) === \"undefined\" || force === true) {\n    root._bokeh_timeout = Date.now() + 5000;\n    root._bokeh_failed_load = false;\n  }\n\n  const NB_LOAD_WARNING = {'data': {'text/html':\n     \"<div style='background-color: #fdd'>\\n\"+\n     \"<p>\\n\"+\n     \"BokehJS does not appear to have successfully loaded. If loading BokehJS from CDN, this \\n\"+\n     \"may be due to a slow or bad network connection. Possible fixes:\\n\"+\n     \"</p>\\n\"+\n     \"<ul>\\n\"+\n     \"<li>re-rerun `output_notebook()` to attempt to load from CDN again, or</li>\\n\"+\n     \"<li>use INLINE resources instead, as so:</li>\\n\"+\n     \"</ul>\\n\"+\n     \"<code>\\n\"+\n     \"from bokeh.resources import INLINE\\n\"+\n     \"output_notebook(resources=INLINE)\\n\"+\n     \"</code>\\n\"+\n     \"</div>\"}};\n\n  function display_loaded(error = null) {\n    const el = document.getElementById(\"a550c3a3-dec6-4a44-ac97-0b087fa41b08\");\n    if (el != null) {\n      const html = (() => {\n        if (typeof root.Bokeh === \"undefined\") {\n          if (error == null) {\n            return \"BokehJS is loading ...\";\n          } else {\n            return \"BokehJS failed to load.\";\n          }\n        } else {\n          const prefix = `BokehJS ${root.Bokeh.version}`;\n          if (error == null) {\n            return `${prefix} successfully loaded.`;\n          } else {\n            return `${prefix} <b>encountered errors</b> while loading and may not function as expected.`;\n          }\n        }\n      })();\n      el.innerHTML = html;\n\n      if (error != null) {\n        const wrapper = document.createElement(\"div\");\n        wrapper.style.overflow = \"auto\";\n        wrapper.style.height = \"5em\";\n        wrapper.style.resize = \"vertical\";\n        const content = document.createElement(\"div\");\n        content.style.fontFamily = \"monospace\";\n        content.style.whiteSpace = \"pre-wrap\";\n        content.style.backgroundColor = \"rgb(255, 221, 221)\";\n        content.textContent = error.stack ?? error.toString();\n        wrapper.append(content);\n        el.append(wrapper);\n      }\n    } else if (Date.now() < root._bokeh_timeout) {\n      setTimeout(() => display_loaded(error), 100);\n    }\n  }\n\n  function run_callbacks() {\n    try {\n      root._bokeh_onload_callbacks.forEach(function(callback) {\n        if (callback != null)\n          callback();\n      });\n    } finally {\n      delete root._bokeh_onload_callbacks\n    }\n    console.debug(\"Bokeh: all callbacks have finished\");\n  }\n\n  function load_libs(css_urls, js_urls, callback) {\n    if (css_urls == null) css_urls = [];\n    if (js_urls == null) js_urls = [];\n\n    root._bokeh_onload_callbacks.push(callback);\n    if (root._bokeh_is_loading > 0) {\n      console.debug(\"Bokeh: BokehJS is being loaded, scheduling callback at\", now());\n      return null;\n    }\n    if (js_urls == null || js_urls.length === 0) {\n      run_callbacks();\n      return null;\n    }\n    console.debug(\"Bokeh: BokehJS not loaded, scheduling load and callback at\", now());\n    root._bokeh_is_loading = css_urls.length + js_urls.length;\n\n    function on_load() {\n      root._bokeh_is_loading--;\n      if (root._bokeh_is_loading === 0) {\n        console.debug(\"Bokeh: all BokehJS libraries/stylesheets loaded\");\n        run_callbacks()\n      }\n    }\n\n    function on_error(url) {\n      console.error(\"failed to load \" + url);\n    }\n\n    for (let i = 0; i < css_urls.length; i++) {\n      const url = css_urls[i];\n      const element = document.createElement(\"link\");\n      element.onload = on_load;\n      element.onerror = on_error.bind(null, url);\n      element.rel = \"stylesheet\";\n      element.type = \"text/css\";\n      element.href = url;\n      console.debug(\"Bokeh: injecting link tag for BokehJS stylesheet: \", url);\n      document.body.appendChild(element);\n    }\n\n    for (let i = 0; i < js_urls.length; i++) {\n      const url = js_urls[i];\n      const element = document.createElement('script');\n      element.onload = on_load;\n      element.onerror = on_error.bind(null, url);\n      element.async = false;\n      element.src = url;\n      console.debug(\"Bokeh: injecting script tag for BokehJS library: \", url);\n      document.head.appendChild(element);\n    }\n  };\n\n  function inject_raw_css(css) {\n    const element = document.createElement(\"style\");\n    element.appendChild(document.createTextNode(css));\n    document.body.appendChild(element);\n  }\n\n  const js_urls = [\"https://cdn.bokeh.org/bokeh/release/bokeh-3.6.0.min.js\", \"https://cdn.bokeh.org/bokeh/release/bokeh-gl-3.6.0.min.js\", \"https://cdn.bokeh.org/bokeh/release/bokeh-widgets-3.6.0.min.js\", \"https://cdn.bokeh.org/bokeh/release/bokeh-tables-3.6.0.min.js\", \"https://cdn.bokeh.org/bokeh/release/bokeh-mathjax-3.6.0.min.js\"];\n  const css_urls = [];\n\n  const inline_js = [    function(Bokeh) {\n      Bokeh.set_log_level(\"info\");\n    },\nfunction(Bokeh) {\n    }\n  ];\n\n  function run_inline_js() {\n    if (root.Bokeh !== undefined || force === true) {\n      try {\n            for (let i = 0; i < inline_js.length; i++) {\n      inline_js[i].call(root, root.Bokeh);\n    }\n\n      } catch (error) {display_loaded(error);throw error;\n      }if (force === true) {\n        display_loaded();\n      }} else if (Date.now() < root._bokeh_timeout) {\n      setTimeout(run_inline_js, 100);\n    } else if (!root._bokeh_failed_load) {\n      console.log(\"Bokeh: BokehJS failed to load within specified timeout.\");\n      root._bokeh_failed_load = true;\n    } else if (force !== true) {\n      const cell = $(document.getElementById(\"a550c3a3-dec6-4a44-ac97-0b087fa41b08\")).parents('.cell').data().cell;\n      cell.output_area.append_execute_result(NB_LOAD_WARNING)\n    }\n  }\n\n  if (root._bokeh_is_loading === 0) {\n    console.debug(\"Bokeh: BokehJS loaded, going straight to plotting\");\n    run_inline_js();\n  } else {\n    load_libs(css_urls, js_urls, function() {\n      console.debug(\"Bokeh: BokehJS plotting callback run at\", now());\n      run_inline_js();\n    });\n  }\n}(window));",
      "application/vnd.bokehjs_load.v0+json": ""
     },
     "metadata": {},
     "output_type": "display_data"
    }
   ],
   "source": [
    "# Imports from the python standard library\n",
    "import math, re, os, sys \n",
    "from pathlib import Path\n",
    "import itertools            # to flatten lists\n",
    "\n",
    "# Import array and dataframe packages\n",
    "import numpy as np\n",
    "# import numpy.linalg as la\n",
    "import pandas as pd\n",
    "import torch\n",
    "\n",
    "import networkx as nx\n",
    "\n",
    "# Use to parse xdsl files\n",
    "import xml.etree.ElementTree as et\n",
    "\n",
    "from tabulate import tabulate\n",
    "import matplotlib.pyplot as plt\n",
    "import seaborn as sn \n",
    "# Import the bokeh python wrappers for javascript plots\n",
    "#  - a preferred visualization tool\n",
    "from bokeh.plotting import figure, show\n",
    "from bokeh.models import ColumnDataSource, VBar, Span\n",
    "from bokeh.io import output_notebook\n",
    "output_notebook()\n",
    "\n",
    "NETWORK_FILE = 'PartyProblem_asym.xdsl' # 'PartyProblem_asym.xdsl'  # "
   ]
  },
  {
   "cell_type": "code",
   "execution_count": 4,
   "metadata": {},
   "outputs": [
    {
     "name": "stdout",
     "output_type": "stream",
     "text": [
      "found nodes\n"
     ]
    },
    {
     "data": {
      "text/plain": [
       "[('Party_location', 'decision'),\n",
       " ('Weather', 'cpt'),\n",
       " ('Preferences', 'utility'),\n",
       " ('Utility', 'maux'),\n",
       " ('Adjustor', 'cpt'),\n",
       " ('Detector', 'cpt')]"
      ]
     },
     "execution_count": 4,
     "metadata": {},
     "output_type": "execute_result"
    }
   ],
   "source": [
    "##  Walk the xdsl elements of a network\n",
    "# def extract_net(xdsl_file):\n",
    "#     '''Finds the first element under the top level that contains a list of nodes,\n",
    "#     and returns a dict of node element objects.'''\n",
    "#     tree = et.parse(xdsl_file)\n",
    "#     root = tree.getroot()\n",
    "#     # BN structure is contained under the node element\n",
    "#     node_tree = root.findall('nodes')[0]\n",
    "#     print(f'found {node_tree.tag}')\n",
    "#     extensions = root.find('extensions')\n",
    "#     extensions_tree = extensions.find('genie')\n",
    "#     node_extensions = extensions_tree.findall('node')\n",
    "#     return  list(node_tree), list(node_extensions)\n",
    "    \n",
    "# BN structure is contained under the node branch\n",
    "parsed = BN.extract_net(NETWORK_FILE)\n",
    "nodes, extensions = parsed\n",
    "# tags tell the node type. \n",
    "[( k.get('id'), k.tag) for k in nodes]"
   ]
  },
  {
   "cell_type": "code",
   "execution_count": 5,
   "metadata": {},
   "outputs": [
    {
     "data": {
      "text/plain": [
       "([<Element 'decision' at 0x15a16a2a0>,\n",
       "  <Element 'cpt' at 0x15a16a930>,\n",
       "  <Element 'utility' at 0x15a16aa70>,\n",
       "  <Element 'maux' at 0x15a16ab60>,\n",
       "  <Element 'cpt' at 0x15a16aca0>,\n",
       "  <Element 'cpt' at 0x15a16ade0>],\n",
       " [<Element 'node' at 0x15a16b1f0>,\n",
       "  <Element 'node' at 0x15a16b3d0>,\n",
       "  <Element 'node' at 0x15a16b5b0>,\n",
       "  <Element 'node' at 0x15a16b830>,\n",
       "  <Element 'node' at 0x15a16ba10>,\n",
       "  <Element 'node' at 0x15a16bbf0>])"
      ]
     },
     "execution_count": 5,
     "metadata": {},
     "output_type": "execute_result"
    }
   ],
   "source": [
    "# view the XML of an element\n",
    "# CPT contents are stored in row major order (first row, second row, ...)\n",
    "# Parents are the first matrix dimension -- matrix is Row Markov\n",
    "# et.dump(\n",
    "parsed\n",
    "     # nodes[2])"
   ]
  },
  {
   "cell_type": "markdown",
   "metadata": {},
   "source": [
    "## Bayes networks object\n",
    "\n",
    "It contains \n",
    "\n",
    "- the parse of the network as a dictionary with node names as keys\n",
    "- The graph object showing network structure\n",
    "- Potential objects for computation. \n",
    "\n"
   ]
  },
  {
   "cell_type": "code",
   "execution_count": null,
   "metadata": {},
   "outputs": [
    {
     "name": "stdout",
     "output_type": "stream",
     "text": [
      "<decision id=\"Party_location\">\n",
      "\t\t\t<state id=\"Outdoors\" />\n",
      "\t\t\t<state id=\"Porch\" />\n",
      "\t\t\t<state id=\"Indoors\" />\n",
      "\t\t</decision>\n",
      "\t\t\n",
      "<cpt id=\"Weather\">\n",
      "\t\t\t<state id=\"Sunshine\" />\n",
      "\t\t\t<state id=\"Rain\" />\n",
      "\t\t\t<probabilities>0.4 0.6</probabilities>\n",
      "\t\t</cpt>\n",
      "\t\t\n",
      "<utility id=\"Preferences\">\n",
      "\t\t\t<parents>Weather Party_location</parents>\n",
      "\t\t\t<utilities>100 90 40 0 20 50</utilities>\n",
      "\t\t</utility>\n",
      "\t\t\n",
      "<maux id=\"Utility\">\n",
      "\t\t\t<parents>Preferences</parents>\n",
      "\t\t\t<expression>4/3*(1-0.5^(Preferences/50))</expression>\n",
      "\t\t</maux>\n",
      "\t\t\n",
      "<cpt id=\"Adjustor\">\n",
      "\t\t\t<state id=\"absent\" />\n",
      "\t\t\t<state id=\"ppresent\" />\n",
      "\t\t\t<probabilities>0.1 0.9000000000000001</probabilities>\n",
      "\t\t</cpt>\n",
      "\t\t\n",
      "<cpt id=\"Detector\">\n",
      "\t\t\t<state id=\"SaySun\" />\n",
      "\t\t\t<state id=\"SayRain\" />\n",
      "\t\t\t<parents>Weather Adjustor</parents>\n",
      "\t\t\t<probabilities>0.51 0.49 0.87 0.13 0.48 0.52 0.4000000000000001 0.6</probabilities>\n",
      "\t\t</cpt>\n",
      "\t\n"
     ]
    },
    {
     "data": {
      "text/plain": [
       "[None, None, None, None, None, None]"
      ]
     },
     "execution_count": 6,
     "metadata": {},
     "output_type": "execute_result"
    }
   ],
   "source": [
    "# CPT parent order\n",
    "# Dimensions are stored in matrix dimension order. \n",
    "[et.dump(n) for n in nodes]\n"
   ]
  },
  {
   "cell_type": "markdown",
   "metadata": {},
   "source": [
    "### Include state and variable names to tensor dimensions"
   ]
  },
  {
   "cell_type": "code",
   "execution_count": null,
   "metadata": {},
   "outputs": [
    {
     "name": "stdout",
     "output_type": "stream",
     "text": [
      "Edges:  [('Weather', 'Preferences'), ('Party_location', 'Preferences'), ('Preferences', 'Utility'), ('Weather', 'Detector'), ('Adjustor', 'Detector')] \n",
      "\n"
     ]
    },
    {
     "data": {
      "text/plain": [
       "{'Party_location': {'kind': 'decision',\n",
       "  'parents': [],\n",
       "  'states': ['Outdoors', 'Porch', 'Indoors'],\n",
       "  'position': [245, 268, 324, 324]},\n",
       " 'Weather': {'kind': 'cpt',\n",
       "  'parents': [],\n",
       "  'states': ['Sunshine', 'Rain'],\n",
       "  'potential': OrderedDict({'Weather': 2})\n",
       "  \ttensor([0.4000, 0.6000]),\n",
       "  'position': [298, 119, 408, 174]},\n",
       " 'Preferences': {'kind': 'utility',\n",
       "  'parents': ['Weather', 'Party_location'],\n",
       "  'states': ['utility'],\n",
       "  'potential': OrderedDict({'Preferences': 1, 'Weather': 2, 'Party_location': 3})\n",
       "  \ttensor([[[100.,  90.,  40.],\n",
       "           [  0.,  20.,  50.]]]),\n",
       "  'position': [435, 281, 573, 329]},\n",
       " 'Utility': {'kind': 'maux',\n",
       "  'parents': ['Preferences'],\n",
       "  'position': [660, 279, 746, 327]},\n",
       " 'Adjustor': {'kind': 'cpt',\n",
       "  'parents': [],\n",
       "  'states': ['absent', 'ppresent'],\n",
       "  'potential': OrderedDict({'Adjustor': 2})\n",
       "  \ttensor([0.1000, 0.9000]),\n",
       "  'position': [62, 81, 174, 116]},\n",
       " 'Detector': {'kind': 'cpt',\n",
       "  'parents': ['Weather', 'Adjustor'],\n",
       "  'states': ['SaySun', 'SayRain'],\n",
       "  'potential': OrderedDict({'Detector': 2, 'Weather': 2, 'Adjustor': 2})\n",
       "  \ttensor([[[0.5100, 0.4900],\n",
       "           [0.8700, 0.1300]],\n",
       "  \n",
       "          [[0.4800, 0.5200],\n",
       "           [0.4000, 0.6000]]]),\n",
       "  'position': [106, 175, 224, 230]}}"
      ]
     },
     "execution_count": 8,
     "metadata": {},
     "output_type": "execute_result"
    }
   ],
   "source": [
    "# Parsing routines\n",
    "bn = BN.reap(parsed)\n",
    "bn.n_dict"
   ]
  },
  {
   "cell_type": "markdown",
   "metadata": {},
   "source": [
    "### Add graph structure"
   ]
  },
  {
   "cell_type": "code",
   "execution_count": null,
   "metadata": {},
   "outputs": [
    {
     "name": "stdout",
     "output_type": "stream",
     "text": [
      "Weather :  set() \t {'Preferences', 'Detector', 'Utility'}\n",
      "Preferences :  {'Party_location', 'Weather'} \t {'Utility'}\n",
      "Party_location :  set() \t {'Preferences', 'Utility'}\n",
      "Utility :  {'Party_location', 'Preferences', 'Weather'} \t set()\n",
      "Detector :  {'Weather', 'Adjustor'} \t set()\n",
      "Adjustor :  set() \t {'Detector'}\n"
     ]
    }
   ],
   "source": [
    "# View node parents and children\n",
    "for n in bn.network:\n",
    "    print(n, ': ',nx.ancestors(bn.network,n), '\\t', nx.descendants(bn.network,n))\n"
   ]
  },
  {
   "cell_type": "code",
   "execution_count": null,
   "metadata": {},
   "outputs": [
    {
     "name": "stdout",
     "output_type": "stream",
     "text": [
      "Node:     {Parents},    {Children}\n",
      "Weather :  set() \t {'Preferences', 'Detector', 'Utility'}\n",
      "Preferences :  {'Party_location', 'Weather'} \t {'Utility'}\n",
      "Party_location :  set() \t {'Preferences', 'Utility'}\n",
      "Utility :  {'Party_location', 'Preferences', 'Weather'} \t set()\n",
      "Detector :  {'Weather', 'Adjustor'} \t set()\n",
      "Adjustor :  set() \t {'Detector'}\n"
     ]
    }
   ],
   "source": [
    "# Node children and parents   TODO use tqbulate\n",
    "\n",
    "print('Node:     {Parents},    {Children}')\n",
    "for n in G:\n",
    "    print(n, ': ',nx.ancestors(G,n), '\\t', nx.descendants(G,n))\n",
    "#     nx.nodes(G)"
   ]
  },
  {
   "cell_type": "code",
   "execution_count": null,
   "metadata": {},
   "outputs": [
    {
     "data": {
      "text/plain": [
       "{'Party_location': array([ 284.5, -296. ]),\n",
       " 'Weather': array([ 353. , -146.5]),\n",
       " 'Preferences': array([ 504., -305.]),\n",
       " 'Utility': array([ 703., -303.]),\n",
       " 'Adjustor': array([118. , -98.5]),\n",
       " 'Detector': array([ 165. , -202.5])}"
      ]
     },
     "execution_count": 18,
     "metadata": {},
     "output_type": "execute_result"
    }
   ],
   "source": [
    "positions = bn.node_centers() \n",
    "positions"
   ]
  },
  {
   "cell_type": "code",
   "execution_count": 19,
   "metadata": {},
   "outputs": [
    {
     "data": {
      "text/plain": [
       "[<matplotlib.patches.FancyArrowPatch at 0x159c66ed0>,\n",
       " <matplotlib.patches.FancyArrowPatch at 0x159d4ca70>,\n",
       " <matplotlib.patches.FancyArrowPatch at 0x159d9cbc0>,\n",
       " <matplotlib.patches.FancyArrowPatch at 0x159d9cc80>,\n",
       " <matplotlib.patches.FancyArrowPatch at 0x159d0e600>]"
      ]
     },
     "execution_count": 19,
     "metadata": {},
     "output_type": "execute_result"
    },
    {
     "data": {
      "image/png": "[encoded data removed]",
      "text/plain": [
       "<Figure size 600x300 with 1 Axes>"
      ]
     },
     "metadata": {},
     "output_type": "display_data"
    }
   ],
   "source": [
    "plt.figure(figsize=(6,3))\n",
    "nx.draw_networkx_labels(bn.network, pos=positions)\n",
    "nx.draw_networkx_nodes(bn.network, pos=positions, node_color='lightgrey')\n",
    "nx.draw_networkx_edges(bn.network, pos=positions)"
   ]
  },
  {
   "cell_type": "markdown",
   "metadata": {},
   "source": [
    "### Extract matrices as tensors.  _List all tensors_"
   ]
  },
  {
   "cell_type": "code",
   "execution_count": 20,
   "metadata": {},
   "outputs": [
    {
     "name": "stdout",
     "output_type": "stream",
     "text": [
      "Weather \n",
      "\t OrderedDict({'Weather': 2})\n",
      "\ttensor([0.4000, 0.6000]) \n",
      "\n",
      "Preferences \n",
      "\t OrderedDict({'Preferences': 1, 'Weather': 2, 'Party_location': 3})\n",
      "\ttensor([[[100.,  90.,  40.],\n",
      "         [  0.,  20.,  50.]]]) \n",
      "\n",
      "Adjustor \n",
      "\t OrderedDict({'Adjustor': 2})\n",
      "\ttensor([0.1000, 0.9000]) \n",
      "\n",
      "Detector \n",
      "\t OrderedDict({'Detector': 2, 'Weather': 2, 'Adjustor': 2})\n",
      "\ttensor([[[0.5100, 0.4900],\n",
      "         [0.8700, 0.1300]],\n",
      "\n",
      "        [[0.4800, 0.5200],\n",
      "         [0.4000, 0.6000]]]) \n",
      "\n"
     ]
    }
   ],
   "source": [
    "# See p. 270, Howard & Abbas\n",
    "# P( detector | weather)\n",
    "\n",
    "bn.pr_named_tensors()"
   ]
  },
  {
   "cell_type": "code",
   "execution_count": 22,
   "metadata": {},
   "outputs": [
    {
     "name": "stdout",
     "output_type": "stream",
     "text": [
      " *** Weather ***\n",
      "State       Value\n",
      "--------  -------\n",
      "Sunshine      0.4\n",
      "Rain          0.6\n"
     ]
    }
   ],
   "source": [
    "# Format one-dim tensors \n",
    "bn.one_dim_table(bn.get_potential('Weather').p, \n",
    "                 'Weather', \n",
    "                 tablefmt= '.4f', \n",
    "                 headers= ['State', 'Value'])"
   ]
  },
  {
   "cell_type": "code",
   "execution_count": null,
   "metadata": {},
   "outputs": [],
   "source": [
    "## For joining by aligning potentials as named tensors\n",
    "## TODO - make these methods in Potential\n",
    "from collections import OrderedDict\n",
    "\n",
    "def dim_index(potential_cpt, candidate):\n",
    "    # Starting with 0 as the first location, so the last location equals the length of the shape\n",
    "    cpt_dims = potential_cpt.dim_names\n",
    "    # if its included is it not already last?\n",
    "    if candidate in cpt_dims and candidate != list(cpt_dims)[-1]:\n",
    "        return list(cpt_dims).index(candidate) \n",
    "    else:\n",
    "        # Either candidate not found or its already at the end, so do nothing.\n",
    "        return None\n",
    "\n",
    "def move_named_dim_to_end(the_named_tensor, the_dimension):\n",
    "    'Transpose the potential place the dimension last'\n",
    "    the_dim_index = dim_index(the_named_tensor, the_dimension)\n",
    "    if the_dim_index is not None:\n",
    "        # Create a modified shape OrderedDict\n",
    "        shape = the_named_tensor.shape.copy()\n",
    "        shape.move_to_end(the_dimension)\n",
    "        # Rotate the tensor dimensions\n",
    "        p_transpose = list(range(len(shape)))               # The unperturbed list\n",
    "        p_transpose.append(p_transpose.pop(the_dim_index))  # Move index to end\n",
    "        # Transpose CPT\n",
    "        x = the_named_tensor.p.permute(p_transpose)\n",
    "        return P.Potential(x, shape)\n",
    "    else:\n",
    "        # A no op\n",
    "        return the_named_tensor \n",
    "    \n",
    "def marginalize_last(p1, p2):\n",
    "    '''For a potential matching the last dimension of the other, join them,\n",
    "    then marginalized out the last dimension'''\n",
    "    if list(p1.shape)[-1] != list(p2.shape)[-1]:           # Compare shapes by indexed value\n",
    "        print(f'Err, last shapes do not match:\\t{list(p1.shape)[-1]} != {list(p2.shape)[-1]}')\n",
    "        return None\n",
    "    else:\n",
    "        new_tensor = (p1.p * p2.p).sum(-1)\n",
    "        # The symmetric set difference - those not common to both. \n",
    "        s1 = set(p1.shape.items())\n",
    "        s2 = set(p2.shape.items())\n",
    "        new_shape = OrderedDict(s1.union(s2) - s1.intersection(s2))\n",
    "    return P.Potential(new_tensor, new_shape)\n",
    "\n",
    "def marginalize(child_potential, parent_potential):\n",
    "    cpt = (child_potential.p * parent_potential.p).sum(-1)\n",
    "    # TODO remove parent shape from child\n",
    "    sh = OrderedDict(set(child_potential.shape.items()) - set(parent_potential.shape.items()))\n",
    "    return P.Potential(cpt, sh)\n",
    "\n",
    "def shift_to_end(the_shape, the_var):\n",
    "    the_shape.move_to_end(the_var)\n",
    "    return the_shape\n",
    "\n",
    "def join_parent(the_conditional, the_parent, name_dict= bn):\n",
    "    'Assume the parent rv is the last dim in the conditional, and marginalize out that dim'\n",
    "    # Find the parent and transpose it to last dim\n",
    "    c_potential = bn.get_potential(the_conditional)\n",
    "    p_potential = bn.get_potential(the_parent)\n",
    "    found_dim = dim_index(c_potential,the_parent)\n",
    "    # Is found dim not already in the last dim? \n",
    "    new_shape = c_potential.shape\n",
    "    if found_dim is not None:   # TODO does this work if the found dim is first?\n",
    "        # Move found_dim to last dimension\n",
    "        new_shape = shift_to_end(new_shape, the_parent)\n",
    "        c_transpose = list(range(len(new_shape)))\n",
    "        c_transpose.append(c_transpose.pop(found_dim))\n",
    "        # Transpose CPT\n",
    "        c_potential.p.permute(c_transpose)\n",
    "        # TODO - create a new potential? \n",
    "    new_joint =  P.Potential(c_potential.p * p_potential.p, new_shape)\n",
    "    return new_joint\n",
    "\n",
    "# No problem with mapping single arg functions over tensors!  \n",
    "def delta_utility(x, exponand = 0.5, normalize = 50):\n",
    "    dims = x.shape\n",
    "    u = 4/3*(1 - pow(exponand, (x.p/normalize)))\n",
    "    return P.Potential(u, dims)"
   ]
  },
  {
   "cell_type": "markdown",
   "metadata": {},
   "source": [
    "### Utilities"
   ]
  },
  {
   "cell_type": "code",
   "execution_count": 47,
   "metadata": {},
   "outputs": [
    {
     "data": {
      "text/plain": [
       "OrderedDict({'Preferences': 1, 'Weather': 2, 'Party_location': 3})\n",
       "\ttensor([[[100.,  90.,  40.],\n",
       "         [  0.,  20.,  50.]]])"
      ]
     },
     "execution_count": 47,
     "metadata": {},
     "output_type": "execute_result"
    }
   ],
   "source": [
    "# Utility matrix, as a Potential\n",
    "outcome_potential = bn.get_potential('Preferences')\n",
    "outcome_potential"
   ]
  },
  {
   "cell_type": "code",
   "execution_count": 48,
   "metadata": {},
   "outputs": [
    {
     "data": {
      "text/plain": [
       "OrderedDict({'Preferences': 1, 'Weather': 2, 'Party_location': 3})\n",
       "\ttensor([[[1.0000, 0.9504, 0.5675],\n",
       "         [0.0000, 0.3229, 0.6667]]])"
      ]
     },
     "execution_count": 48,
     "metadata": {},
     "output_type": "execute_result"
    }
   ],
   "source": [
    "# Apply a utility function by mapping it over the value tensor\n",
    "u = delta_utility(outcome_potential)\n",
    "u"
   ]
  },
  {
   "cell_type": "markdown",
   "metadata": {},
   "source": [
    "## Solving the party problem\n",
    "\n",
    "To determine the optimal policy\n",
    "\n",
    "* join Detector and Weather CPTs \n",
    "* join DW with Utility (Decision is implicit in Utility, w/ unit values for all options)\n",
    "* marginalize out unobserved Weather (or do this after decn, to get VOI)\n",
    "* Maximize over options"
   ]
  },
  {
   "cell_type": "markdown",
   "metadata": {},
   "source": [
    "### First solution - only prior, no observation "
   ]
  },
  {
   "cell_type": "code",
   "execution_count": 49,
   "metadata": {},
   "outputs": [
    {
     "data": {
      "text/plain": [
       "OrderedDict({'Preferences': 1, 'Party_location': 3, 'Weather': 2})\n",
       "\ttensor([[[100.,   0.],\n",
       "         [ 90.,  20.],\n",
       "         [ 40.,  50.]]])"
      ]
     },
     "execution_count": 49,
     "metadata": {},
     "output_type": "execute_result"
    }
   ],
   "source": [
    "# Note that marginalize_last is symmetric in its arguments. \n",
    "preference_transpose = move_named_dim_to_end(bn.get_potential(\"Preferences\"), \"Weather\")\n",
    "preference_transpose\n"
   ]
  },
  {
   "cell_type": "code",
   "execution_count": 50,
   "metadata": {},
   "outputs": [
    {
     "name": "stdout",
     "output_type": "stream",
     "text": [
      " *** Party_location ***\n",
      "--------  --\n",
      "Outdoors  40\n",
      "Porch     48\n",
      "Indoors   46\n",
      "--------  --\n"
     ]
    }
   ],
   "source": [
    "prior_utility = marginalize_last(preference_transpose, bn.get_potential(\"Weather\"))\n",
    "bn.one_dim_table(prior_utility.p, 'Party_location') "
   ]
  },
  {
   "cell_type": "code",
   "execution_count": 51,
   "metadata": {},
   "outputs": [
    {
     "data": {
      "text/plain": [
       "OrderedDict({'Detector': 2, 'Adjustor': 2, 'Weather': 2})\n",
       "\ttensor([[[0.2040, 0.2940],\n",
       "         [0.3480, 0.0780]],\n",
       "\n",
       "        [[0.1920, 0.3120],\n",
       "         [0.1600, 0.3600]]])"
      ]
     },
     "execution_count": 51,
     "metadata": {},
     "output_type": "execute_result"
    }
   ],
   "source": [
    "# return the joint potential, with the conditioning prob last. \n",
    "dw_joint = join_parent(\"Detector\", 'Weather')\n",
    "dw_joint\n"
   ]
  },
  {
   "cell_type": "code",
   "execution_count": 52,
   "metadata": {},
   "outputs": [
    {
     "name": "stdout",
     "output_type": "stream",
     "text": [
      ">>> pre_posterior <<<\n",
      " tensor([[0.4980, 0.4260],\n",
      "        [0.5040, 0.5200]]) \n",
      ">>> posterior <<<\n",
      " OrderedDict({'Weather': 2, 'Adjustor': 2, 'Detector': 2})\n",
      "\ttensor([[[0.4096, 0.6901],\n",
      "         [0.3810, 0.6000]],\n",
      "\n",
      "        [[0.6988, 0.1831],\n",
      "         [0.3175, 0.6923]]])\n"
     ]
    }
   ],
   "source": [
    "# P( Weather | Detector) - column markov\n",
    "# See p 270 Figure 13.6\n",
    "#   Transpose the joint to get the Detector in last dim, and normalize \n",
    "pre_posterior_p = dw_joint.p.sum(-1) \n",
    "p = dw_joint.p.transpose(0,1) * (1/pre_posterior_p)\n",
    "# reverse the shape \n",
    "posterior = P.Potential(p, OrderedDict(list(reversed(dw_joint.shape.items()))) )\n",
    "print('>>> pre_posterior <<<\\n',pre_posterior_p, '\\n>>> posterior <<<\\n', posterior)\n",
    "\n"
   ]
  },
  {
   "cell_type": "code",
   "execution_count": 53,
   "metadata": {},
   "outputs": [
    {
     "name": "stdout",
     "output_type": "stream",
     "text": [
      "E[ V | Party_location, Detector] = \n"
     ]
    },
    {
     "data": {
      "text/plain": [
       "tensor([[[[40.9639, 69.0141],\n",
       "          [38.0952, 60.0000]],\n",
       "\n",
       "         [[50.8434, 65.7746],\n",
       "          [40.6349, 67.8461]],\n",
       "\n",
       "         [[51.3253, 36.7606],\n",
       "          [31.1111, 58.6154]]]])"
      ]
     },
     "execution_count": 53,
     "metadata": {},
     "output_type": "execute_result"
    }
   ],
   "source": [
    "# One approach is to add a unsqueeze(es) dim to match Detector at the end of preference transpose\n",
    "# BINGO\n",
    "extended_preference = preference_transpose.p.unsqueeze(-1).unsqueeze(-1)\n",
    "# print(extended_preference.shape)\n",
    "# Sum out the weather dimension\n",
    "policy_values = (extended_preference * posterior.p).sum(2)\n",
    "print('E[ V | Party_location, Detector] = ')\n",
    "policy_values\n",
    "# Next we need to weight the optimal in each column by the pre-posterior."
   ]
  },
  {
   "cell_type": "code",
   "execution_count": 54,
   "metadata": {},
   "outputs": [
    {
     "name": "stdout",
     "output_type": "stream",
     "text": [
      " *** Party_location ***\n",
      "State     SaySun                                  SayRain\n",
      "--------  --------------------------------------  ----------------------------------------\n",
      "Outdoors  [40.96385192871094, 69.01408386230469]  [38.095237731933594, 59.999996185302734]\n",
      "Porch     [50.84336853027344, 65.77464294433594]  [40.634918212890625, 67.84614562988281]\n",
      "Indoors   [51.32529830932617, 36.76055908203125]  [31.11111068725586, 58.615379333496094]\n"
     ]
    }
   ],
   "source": [
    "# TODO Need to format list entries before passing to tabulate. \n",
    "# TODO looks like the State labels are flipped. \n",
    "detector_states= bn.n_dict['Detector']['states'].copy()\n",
    "detector_states.insert(0, 'State')\n",
    "bn.one_dim_table(policy_values.squeeze(0), \n",
    "    'Party_location', \n",
    "    floatfmt= \".3f\", \n",
    "    headers= detector_states)\n",
    "        "
   ]
  },
  {
   "cell_type": "code",
   "execution_count": 55,
   "metadata": {},
   "outputs": [
    {
     "data": {
      "text/plain": [
       "<Axes: >"
      ]
     },
     "execution_count": 55,
     "metadata": {},
     "output_type": "execute_result"
    },
    {
     "data": {
      "image/png": "[encoded data removed]",
      "text/plain": [
       "<Figure size 600x260 with 4 Axes>"
      ]
     },
     "metadata": {},
     "output_type": "display_data"
    }
   ],
   "source": [
    "# what is the last dim?  Need to remove it. \n",
    "fig, ax = plt.subplots(1,2, figsize = (6, 2.6))\n",
    "policy_values_2d_a = pd.DataFrame(policy_values.squeeze(0)[:,:,1], columns = bn.n_dict['Detector']['states'], \n",
    "                                index = bn.n_dict['Party_location']['states'])\n",
    "sn.heatmap(policy_values_2d_a, annot=True, xticklabels=True, yticklabels=True, ax=ax[0])\n",
    "policy_values_2d_b = pd.DataFrame(policy_values.squeeze(0)[:,:,0], columns = bn.n_dict['Detector']['states'], \n",
    "                                index = bn.n_dict['Party_location']['states'])\n",
    "sn.heatmap(policy_values_2d_b, annot=True, xticklabels=True, yticklabels=True, ax=ax[1])"
   ]
  },
  {
   "cell_type": "code",
   "execution_count": 56,
   "metadata": {},
   "outputs": [
    {
     "data": {
      "text/plain": [
       "(tensor([[[51.3253, 69.0141],\n",
       "          [40.6349, 67.8461]]]),\n",
       " tensor([[[2, 0],\n",
       "          [1, 1]]]))"
      ]
     },
     "execution_count": 56,
     "metadata": {},
     "output_type": "execute_result"
    }
   ],
   "source": [
    "# Find the policy as the max value in each column. \n",
    "decn = policy_values.max(1)\n",
    "# Which entry is that in the column?\n",
    "decn.values, decn.indices"
   ]
  },
  {
   "cell_type": "code",
   "execution_count": 57,
   "metadata": {},
   "outputs": [
    {
     "data": {
      "text/plain": [
       "tensor([[61.9386, 56.9617]])"
      ]
     },
     "execution_count": 57,
     "metadata": {},
     "output_type": "execute_result"
    }
   ],
   "source": [
    "# Value with information. \n",
    "# However utility should be applied after computing expected values to get certain equivalents\n",
    "# sigh\n",
    "# 0.7782 * 0.44 + 0.6557 * 0.56\n",
    "decn.values @ bn.get_potential('Weather').p"
   ]
  }
 ],
 "metadata": {
  "kernelspec": {
   "display_name": "venv",
   "language": "python",
   "name": "python3"
  },
  "language_info": {
   "codemirror_mode": {
    "name": "ipython",
    "version": 3
   },
   "file_extension": ".py",
   "mimetype": "text/x-python",
   "name": "python",
   "nbconvert_exporter": "python",
   "pygments_lexer": "ipython3",
   "version": "3.12.4"
  }
 },
 "nbformat": 4,
 "nbformat_minor": 2
}
